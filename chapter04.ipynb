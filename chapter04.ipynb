{
 "cells": [
  {
   "cell_type": "markdown",
   "metadata": {},
   "source": [
    "# 第4章 設計技法（2）: 再帰と分割統治法"
   ]
  },
  {
   "cell_type": "markdown",
   "metadata": {},
   "source": [
    "## 4.1\n",
    "\n",
    "トリボナッチ数列とは、\n",
    "\n",
    "* $ T_0 = 0 $\n",
    "* $ T_1 = 0 $\n",
    "* $ T_2 = 1 $\n",
    "* $ T_N = T_{N-1} + T_{N-2} + T_{N-3} (N = 3, 4, ...) $\n",
    "\n",
    "によって定義される数列です。$ 0, 0, 1, 1, 2, 4, 7, 13, 24, 4, ... $と続いていきます。トリボナッチ数列の第$N$項の値を求める再帰関数を設計してください。"
   ]
  },
  {
   "cell_type": "code",
   "execution_count": 1,
   "metadata": {},
   "outputs": [
    {
     "data": {
      "text/plain": [
       "81"
      ]
     },
     "execution_count": 1,
     "metadata": {},
     "output_type": "execute_result"
    }
   ],
   "source": [
    "def tribonacci(n):\n",
    "    if n == 0 or n == 1: return 0\n",
    "    if n == 2:           return 1\n",
    "    \n",
    "    return tribonacci(n - 1) + tribonacci(n - 2) + tribonacci(n - 3)\n",
    "\n",
    "tribonacci(10)"
   ]
  },
  {
   "cell_type": "markdown",
   "metadata": {},
   "source": [
    "## 4.2\n",
    "\n",
    "問題4.1で設計した再帰関数をメモ化によって効率っかしてください。また、メモ化を実施後の計算量を評価してください。"
   ]
  },
  {
   "cell_type": "code",
   "execution_count": 2,
   "metadata": {},
   "outputs": [
    {
     "data": {
      "text/plain": [
       "53324762928098149064722658"
      ]
     },
     "execution_count": 2,
     "metadata": {},
     "output_type": "execute_result"
    }
   ],
   "source": [
    "def tribonacci_with_memo(n, memo):\n",
    "    if n == 0 or n == 1: return 0\n",
    "    if n == 2:           return 1\n",
    "    if n in memo:        return memo[n]\n",
    "\n",
    "    memo[n] = tribonacci_with_memo(n - 1, memo) + tribonacci_with_memo(n - 2, memo) + tribonacci_with_memo(n - 3, memo)\n",
    "    return memo[n]\n",
    "\n",
    "tribonacci_with_memo(100, {})"
   ]
  },
  {
   "cell_type": "markdown",
   "metadata": {},
   "source": [
    "$N, N-1, N-2, ..., 2$と、Nを減らしながら計算し、かつ、一度計算した$N$についての結果をメモ化して再利用するので、計算量は$O(N)$になる。"
   ]
  },
  {
   "cell_type": "markdown",
   "metadata": {},
   "source": [
    "## 4.3\n",
    "\n",
    "フィボナッチ数列の一般項が$F_N = \\frac{1}{\\sqrt{5}}((\\frac{1+\\sqrt{5}}{2})^N - (\\frac{1-\\sqrt{5}}{2})^N) $で表されることをしめしてください。"
   ]
  },
  {
   "cell_type": "markdown",
   "metadata": {},
   "source": [
    "え、わからん…。"
   ]
  },
  {
   "cell_type": "markdown",
   "metadata": {},
   "source": [
    "## 4.4\n",
    "\n",
    "コード4.5で示したアルゴリズムの計算量が$ O((\\frac{1+\\sqrt{5}}{2})^N) $で与えられることを示してください。"
   ]
  },
  {
   "cell_type": "markdown",
   "metadata": {},
   "source": [
    "スキップ！"
   ]
  },
  {
   "cell_type": "markdown",
   "metadata": {},
   "source": [
    "## 4.5\n",
    "\n",
    "十進法表記で各桁の値が$7,5,3$のいずれかであり、かつ、$7,5,3$がいずれも一度以上は登場する整数を「$753$数」とよぶこととします。正の整数$K$が与えられた時に、$K$以下の$753$数が何個あるかを求めるアルゴリズムを設計してください。ただし、$K$の桁数を$d$として$O(3^d)$程度の計算量を許容できるものとします。\n",
    "\n",
    "（出典: [C - 755](https://atcoder.jp/contests/abc114/tasks/abc114_c)）"
   ]
  },
  {
   "cell_type": "code",
   "execution_count": 3,
   "metadata": {},
   "outputs": [
    {
     "name": "stdout",
     "output_type": "stream",
     "text": [
      "4\n"
     ]
    }
   ],
   "source": [
    "def the_algorithm(k, n, bit, count):\n",
    "    if n > k: return count\n",
    "    if bit == 0b111: count += 1\n",
    "    \n",
    "    count = the_algorithm(k, n * 10 + 7, bit | 0b001, count)\n",
    "    count = the_algorithm(k, n * 10 + 5, bit | 0b010, count)\n",
    "    count = the_algorithm(k, n * 10 + 3, bit | 0b100, count)\n",
    "    \n",
    "    return count\n",
    "\n",
    "print(the_algorithm(575, 0, 0, 0))"
   ]
  },
  {
   "cell_type": "markdown",
   "metadata": {},
   "source": [
    "（わからんかったから「[AtCoder ABC 114 C - 755 (300 点) - けんちょんの競プロ精進記録](https://drken1215.hatenablog.com/entry/2019/04/03/125400)」をPythonで書き直しただけ）"
   ]
  },
  {
   "cell_type": "markdown",
   "metadata": {},
   "source": [
    "## 4.6\n",
    "\n",
    "部分和問題に対する再帰関数を用いる計算量$O(2^N)$のコード4.9に対してメモ化して、$O(NW)$の計算量で動作するようにしてください。"
   ]
  },
  {
   "cell_type": "code",
   "execution_count": 4,
   "metadata": {},
   "outputs": [
    {
     "data": {
      "text/plain": [
       "True"
      ]
     },
     "execution_count": 4,
     "metadata": {},
     "output_type": "execute_result"
    }
   ],
   "source": [
    "def the_algorithm(i, w, ary):\n",
    "    return the_algorithm_recursive(i, w, ary, {})\n",
    "\n",
    "def the_algorithm_recursive(i, w, ary, memo):\n",
    "    if (i == 0):\n",
    "        if (w == 0): return True\n",
    "        else:        return False\n",
    "\n",
    "    key1 = ':'.join([str(i) for i in (i, w)])\n",
    "    key2 = ':'.join([str(i) for i in (i, w - ary[i - 1])])\n",
    "    if key1 in memo: return memo[key1]\n",
    "    if key2 in memo: return memo[key2]\n",
    "        \n",
    "    memo[key1] = the_algorithm_recursive(i - 1, w, ary, memo)\n",
    "    if (memo[key1]): return True\n",
    "    memo[key2] = the_algorithm_recursive(i - 1, w - ary[i - 1], ary, memo)\n",
    "    if (memo[key2]): return True\n",
    "    \n",
    "    return False    \n",
    "\n",
    "the_algorithm(16, 14, [14, 11, 12, 9, 8, 5, 6, 3, 9, 6, 7, 4, 3, 0, 1, -2])"
   ]
  }
 ],
 "metadata": {
  "kernelspec": {
   "display_name": "Python 3",
   "language": "python",
   "name": "python3"
  },
  "language_info": {
   "codemirror_mode": {
    "name": "ipython",
    "version": 3
   },
   "file_extension": ".py",
   "mimetype": "text/x-python",
   "name": "python",
   "nbconvert_exporter": "python",
   "pygments_lexer": "ipython3",
   "version": "3.8.1"
  }
 },
 "nbformat": 4,
 "nbformat_minor": 4
}
