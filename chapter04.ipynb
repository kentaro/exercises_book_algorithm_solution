{
 "cells": [
  {
   "cell_type": "markdown",
   "metadata": {},
   "source": [
    "# 第4章 設計技法（2）: 再帰と分割統治法"
   ]
  },
  {
   "cell_type": "markdown",
   "metadata": {},
   "source": [
    "## 4.1\n",
    "\n",
    "トリボナッチ数列とは、\n",
    "\n",
    "* $ T_0 = 0 $\n",
    "* $ T_1 = 0 $\n",
    "* $ T_2 = 1 $\n",
    "* $ T_N = T_{N-1} + T_{N-2} + T_{N-3} (N = 3, 4, ...) $\n",
    "\n",
    "によって定義される数列です。$ 0, 0, 1, 1, 2, 4, 7, 13, 24, 4, ... $と続いていきます。トリボナッチ数列の第$N$項の値を求める再帰関数を設計してください。"
   ]
  },
  {
   "cell_type": "code",
   "execution_count": 1,
   "metadata": {},
   "outputs": [
    {
     "data": {
      "text/plain": [
       "81"
      ]
     },
     "execution_count": 1,
     "metadata": {},
     "output_type": "execute_result"
    }
   ],
   "source": [
    "def tribonacci(n):\n",
    "    if n == 0 or n == 1: return 0\n",
    "    if n == 2:           return 1\n",
    "    \n",
    "    return tribonacci(n - 1) + tribonacci(n - 2) + tribonacci(n - 3)\n",
    "\n",
    "tribonacci(10)"
   ]
  },
  {
   "cell_type": "markdown",
   "metadata": {},
   "source": [
    "## 4.2\n",
    "\n",
    "問題4.1で設計した再帰関数をメモ化によって効率っかしてください。また、メモ化を実施後の計算量を評価してください。"
   ]
  },
  {
   "cell_type": "code",
   "execution_count": 8,
   "metadata": {},
   "outputs": [
    {
     "data": {
      "text/plain": [
       "53324762928098149064722658"
      ]
     },
     "execution_count": 8,
     "metadata": {},
     "output_type": "execute_result"
    }
   ],
   "source": [
    "def tribonacci_with_memo(n, memo):\n",
    "    if n == 0 or n == 1: return 0\n",
    "    if n == 2:           return 1\n",
    "    if n in memo:        return memo[n]\n",
    "\n",
    "    memo[n] = tribonacci_with_memo(n - 1, memo) + tribonacci_with_memo(n - 2, memo) + tribonacci_with_memo(n - 3, memo)\n",
    "    return memo[n]\n",
    "\n",
    "tribonacci_with_memo(100, {})"
   ]
  },
  {
   "cell_type": "markdown",
   "metadata": {},
   "source": [
    "$N, N-1, N-2, ..., 2$と、Nを減らしながら計算し、かつ、一度計算した$N$についての結果をメモ化して再利用するので、計算量は$O(N)$になる。"
   ]
  },
  {
   "cell_type": "markdown",
   "metadata": {},
   "source": [
    "## 4．3\n",
    "\n",
    "フィボナッチ数列の一般項が$F_N = \\frac{1}{\\sqrt{5}}((\\frac{1+\\sqrt{5}}{2})^N - (\\frac{1-\\sqrt{5}}{2})^N) $で表されることをしめしてください。"
   ]
  },
  {
   "cell_type": "markdown",
   "metadata": {},
   "source": []
  }
 ],
 "metadata": {
  "kernelspec": {
   "display_name": "Python 3",
   "language": "python",
   "name": "python3"
  },
  "language_info": {
   "codemirror_mode": {
    "name": "ipython",
    "version": 3
   },
   "file_extension": ".py",
   "mimetype": "text/x-python",
   "name": "python",
   "nbconvert_exporter": "python",
   "pygments_lexer": "ipython3",
   "version": "3.8.1"
  }
 },
 "nbformat": 4,
 "nbformat_minor": 4
}
