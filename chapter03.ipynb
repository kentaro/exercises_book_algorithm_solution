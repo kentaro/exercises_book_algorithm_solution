{
 "cells": [
  {
   "cell_type": "markdown",
   "metadata": {},
   "source": [
    "# 第3章 設計技法（1）: 全探索"
   ]
  },
  {
   "cell_type": "markdown",
   "metadata": {},
   "source": [
    "## 3.1\n",
    "\n",
    "（省略）"
   ]
  },
  {
   "cell_type": "markdown",
   "metadata": {},
   "source": [
    "## 3.2\n",
    "\n",
    "$N$個の整数$a_0, a_1, ... a_{N-1}$のうち、整数値$v$が何個含まれるかを求める$O(N)$のアルゴリズムを設計してください。"
   ]
  },
  {
   "cell_type": "code",
   "execution_count": 3,
   "metadata": {},
   "outputs": [
    {
     "name": "stdout",
     "output_type": "stream",
     "text": [
      "2\n"
     ]
    }
   ],
   "source": [
    "def count_if(v, ary):\n",
    "    count = 0\n",
    "    for i in ary:\n",
    "        if i == v:\n",
    "            count += 1\n",
    "    return count\n",
    "\n",
    "print(count_if(6, [1,2,3,6,8,6,3,2,1]))"
   ]
  },
  {
   "cell_type": "markdown",
   "metadata": {},
   "source": [
    "## 3.3\n",
    "\n",
    "$N(\\geq2)$個の相異なる整数$a_0, a_1, ..., a_{N-1}$が与えられます。このうち、2番めに小さい値を求める$O(N)$のアルゴリズムを設計してください。"
   ]
  },
  {
   "cell_type": "code",
   "execution_count": 13,
   "metadata": {},
   "outputs": [
    {
     "name": "stdout",
     "output_type": "stream",
     "text": [
      "None\n",
      "3\n",
      "2\n"
     ]
    }
   ],
   "source": [
    "def second_smallest(ary):\n",
    "    if len(ary) < 2: return None\n",
    "    \n",
    "    min = float(\"inf\")\n",
    "    smin = float(\"inf\")\n",
    "\n",
    "    for i in ary:\n",
    "        if i <= min:\n",
    "            min = i\n",
    "        elif i >= min and i <= smin:\n",
    "            smin = i\n",
    "\n",
    "    return smin\n",
    "\n",
    "print(second_smallest([1]))\n",
    "print(second_smallest([1, 3]))\n",
    "print(second_smallest([1,2,3,6,8,6,3,2,1]))"
   ]
  }
 ],
 "metadata": {
  "kernelspec": {
   "display_name": "Python 3",
   "language": "python",
   "name": "python3"
  },
  "language_info": {
   "codemirror_mode": {
    "name": "ipython",
    "version": 3
   },
   "file_extension": ".py",
   "mimetype": "text/x-python",
   "name": "python",
   "nbconvert_exporter": "python",
   "pygments_lexer": "ipython3",
   "version": "3.8.1"
  }
 },
 "nbformat": 4,
 "nbformat_minor": 4
}
