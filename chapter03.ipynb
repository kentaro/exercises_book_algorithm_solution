{
 "cells": [
  {
   "cell_type": "markdown",
   "metadata": {},
   "source": [
    "# 第3章 設計技法（1）: 全探索"
   ]
  },
  {
   "cell_type": "markdown",
   "metadata": {},
   "source": [
    "## 3.1\n",
    "\n",
    "（省略）"
   ]
  },
  {
   "cell_type": "markdown",
   "metadata": {},
   "source": [
    "## 3.2\n",
    "\n",
    "$N$個の整数$a_0, a_1, ... a_{N-1}$のうち、整数値$v$が何個含まれるかを求める$O(N)$のアルゴリズムを設計してください。"
   ]
  },
  {
   "cell_type": "code",
   "execution_count": 1,
   "metadata": {},
   "outputs": [
    {
     "name": "stdout",
     "output_type": "stream",
     "text": [
      "2\n"
     ]
    }
   ],
   "source": [
    "def count_if(v, ary):\n",
    "    count = 0\n",
    "    for i in ary:\n",
    "        if i == v:\n",
    "            count += 1\n",
    "    return count\n",
    "\n",
    "print(count_if(6, [1,2,3,6,8,6,3,2,1]))"
   ]
  },
  {
   "cell_type": "markdown",
   "metadata": {},
   "source": [
    "## 3.3\n",
    "\n",
    "$N(\\geq2)$個の相異なる整数$a_0, a_1, ..., a_{N-1}$が与えられます。このうち、2番めに小さい値を求める$O(N)$のアルゴリズムを設計してください。"
   ]
  },
  {
   "cell_type": "code",
   "execution_count": 2,
   "metadata": {},
   "outputs": [
    {
     "name": "stdout",
     "output_type": "stream",
     "text": [
      "None\n",
      "3\n",
      "2\n"
     ]
    }
   ],
   "source": [
    "import sys\n",
    "\n",
    "def second_smallest(ary):\n",
    "    if len(ary) < 2: return None\n",
    "    \n",
    "    min = sys.maxsize\n",
    "    smin = sys.maxsize\n",
    "\n",
    "    for i in ary:\n",
    "        if i <= min:\n",
    "            min = i\n",
    "        elif i >= min and i <= smin:\n",
    "            smin = i\n",
    "\n",
    "    return smin\n",
    "\n",
    "print(second_smallest([1]))\n",
    "print(second_smallest([1, 3]))\n",
    "print(second_smallest([1,2,3,6,8,6,3,2,1]))"
   ]
  },
  {
   "cell_type": "markdown",
   "metadata": {},
   "source": [
    "Python3からはintの上限がなくなったので`sys.maxint`が削除された。その代わり、今回の問題のような場合は`sys.maxsize`を使うとよさそうなので、上記のように実装した。\n",
    "\n",
    "> 整数の上限がなくなったため、sys.maxint 定数は削除されました。しかしながら、通常のリストや文字列の添え字よりも大きい整数として [sys.maxsize](https://docs.python.org/ja/3/library/sys.html#sys.maxsize) を使うことができます。 sys.maxsize は実装の \"自然な\" 整数の大きさに一致し、同じプラットフォームでは (同じビルドオプションなら) 過去のリリースの sys.maxint と普通は同じです。\n",
    "\n",
    "[What's New In Python 3.0 — Python 3.8.6 ドキュメント](https://docs.python.org/ja/3/whatsnew/3.0.html#integers)"
   ]
  },
  {
   "cell_type": "markdown",
   "metadata": {},
   "source": [
    "## 3.4\n",
    "\n",
    "$ N $個の整数$ a_0, a_1, ..., a_{N-1} $が与えられます。この中から2つを選んで差を取ります。その差の最大値を求める$ O(N) $のアルゴリズムを設計してください。"
   ]
  },
  {
   "cell_type": "code",
   "execution_count": 3,
   "metadata": {},
   "outputs": [
    {
     "data": {
      "text/plain": [
       "9"
      ]
     },
     "execution_count": 3,
     "metadata": {},
     "output_type": "execute_result"
    }
   ],
   "source": [
    "import sys\n",
    "\n",
    "def max_difference_pair(ary):\n",
    "    max = -sys.maxsize\n",
    "    min = sys.maxsize\n",
    "    \n",
    "    for i in ary:\n",
    "        if i >= max:\n",
    "            max = i\n",
    "        elif i <= min:\n",
    "            min = i\n",
    "    \n",
    "    return max - min\n",
    "\n",
    "max_difference_pair([3, 8, 7, 10, 2, 1, 5, 6, 4, 9])"
   ]
  },
  {
   "cell_type": "markdown",
   "metadata": {},
   "source": [
    "## 3.5\n",
    "\n",
    "$ N $個の正の整数$ a_0, a_1, ... a_{N-1} $が与えられます。これらに対して「$ N $個の整数がすべて偶数ならば2で割った値に置き換える」という操作を、操作が行えなくなるまで繰り返します。何回の操作を行うことになるかを求めるアルゴリズムを設計してください。\n",
    "\n",
    "（出典: [B - Shift only](https://atcoder.jp/contests/abc081/tasks/abc081_b)）"
   ]
  },
  {
   "cell_type": "code",
   "execution_count": 4,
   "metadata": {},
   "outputs": [
    {
     "name": "stdout",
     "output_type": "stream",
     "text": [
      "2\n",
      "0\n",
      "8\n"
     ]
    }
   ],
   "source": [
    "def count_ops(ary):\n",
    "    count = 0\n",
    "\n",
    "    while 1:\n",
    "        for i, v in enumerate(ary):\n",
    "            if v % 2 == 1:\n",
    "                return count\n",
    "            else:\n",
    "                ary[i] = v/2\n",
    "\n",
    "        count += 1\n",
    "    \n",
    "    return count\n",
    "\n",
    "print(count_ops([8, 12, 40]))\n",
    "print(count_ops([5, 6, 8, 10]))\n",
    "print(count_ops([382253568, 723152896, 37802240, 379425024, 404894720, 471526144]))"
   ]
  },
  {
   "cell_type": "markdown",
   "metadata": {},
   "source": [
    "## 3.6\n",
    "\n",
    "2つの正の整数$ K, N $が与えられえます。$ 0 \\leq X, Y, Z \\leq K $を満たす整数$ (X, Y, Z) $の組であって、$ X + Y + Z = N $を満たすものが何通りあるかを求める$ O(N^2) $のアルゴリズムを設計してください。\n",
    "\n",
    "（出典: [B - Sum of Three Integers](https://atcoder.jp/contests/abc051/tasks/abc051_b)）"
   ]
  },
  {
   "cell_type": "code",
   "execution_count": 5,
   "metadata": {},
   "outputs": [
    {
     "name": "stdout",
     "output_type": "stream",
     "text": [
      "6\n",
      "1\n"
     ]
    }
   ],
   "source": [
    "def the_algorithm(k, n):\n",
    "    count = 0\n",
    "\n",
    "    for x in range(k + 1):\n",
    "        for y in range(k + 1):\n",
    "            z = n - x - y\n",
    "            if 0 <= z <= k:\n",
    "                count += 1\n",
    "    \n",
    "    return count\n",
    "\n",
    "print(the_algorithm(2, 2))\n",
    "print(the_algorithm(5, 15))"
   ]
  },
  {
   "cell_type": "markdown",
   "metadata": {},
   "source": [
    "## 3.7\n",
    "\n",
    "各桁の値が1以上9以下の数値のみである整数とみなせるような、長さ$N$の文字列$S$が与えられます。この文字列の中で、文字と文字の間のうちのいくつかの場所に「$+$」をいれることができます。ひとつも入れなくても構いませんが、「$+$」が連続してはいけません。このようにしてできるすべての文字列を数値とみなして、総和を計算する$O(N^2)$のアルゴリズムを設計してください。たとえば$S = 125$のときは、$125, 1+25（=26）, 12+5（=17）, 1+2+5（=8）$の総和をとって176となります。\n",
    "\n",
    "（出典: [C - たくさんの数式](https://atcoder.jp/contests/abc045/tasks/arc061_a)）"
   ]
  },
  {
   "cell_type": "code",
   "execution_count": 6,
   "metadata": {},
   "outputs": [
    {
     "name": "stdout",
     "output_type": "stream",
     "text": [
      "176\n",
      "12656242944\n"
     ]
    }
   ],
   "source": [
    "def the_algorithm(num):\n",
    "    ary = list(str(num))\n",
    "    sum = 0\n",
    "\n",
    "    for bit in range(1 << (len(ary) - 1)):       # (文字列の長さ - 1)桁のビットを全探索\n",
    "        tmp = [ary[0]]                           # 1文字目はあらかじめ入れておく\n",
    "\n",
    "        for i in range((len(ary) - 1)):          # 各桁についてまわる\n",
    "            mask = 1 << i                        # いまみてる桁にフラグがたってるか判定するマスク\n",
    "\n",
    "            if bit & mask:                       # ↑と&演算することでフラグがたってるかどうか判定\n",
    "                tmp.append(ary[i + 1])           # フラグがたってると+とみなして右辺を配列に追加\n",
    "            else:\n",
    "                tmp[-1] = tmp[-1] + ary[i + 1]   # たってなかったら数字の下位の桁として結合\n",
    "\n",
    "        for i in tmp:\n",
    "            sum += int(i)                        # 配列の区切りを+とみなして足し合わせる\n",
    "\n",
    "    return sum\n",
    "\n",
    "print(the_algorithm(125))\n",
    "print(the_algorithm(9999999999))"
   ]
  }
 ],
 "metadata": {
  "kernelspec": {
   "display_name": "Python 3",
   "language": "python",
   "name": "python3"
  },
  "language_info": {
   "codemirror_mode": {
    "name": "ipython",
    "version": 3
   },
   "file_extension": ".py",
   "mimetype": "text/x-python",
   "name": "python",
   "nbconvert_exporter": "python",
   "pygments_lexer": "ipython3",
   "version": "3.8.1"
  }
 },
 "nbformat": 4,
 "nbformat_minor": 4
}
