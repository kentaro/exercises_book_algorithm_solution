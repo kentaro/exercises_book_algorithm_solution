{
 "cells": [
  {
   "cell_type": "markdown",
   "metadata": {},
   "source": [
    "# 第5章 設計技法（3）: 動的計画法"
   ]
  },
  {
   "cell_type": "markdown",
   "metadata": {},
   "source": [
    "## 5.1\n",
    "\n",
    "$N$日間の休みがあり、$i$日目に海で泳ぐ幸福度は$a_i$、虫取りする幸福度は$b_i$、宿題をする幸福度は$c_i$で与えられるとします。それぞれの日について、これらの3つの行動のうちのいずれかを行います。ただし2日連続で同じ行動はしないものとします。$N$日間の幸福度の最大値を$O(N)$で求めるアルゴリズムを設計してください。\n",
    "\n",
    "（出典: [C - Vacation](https://atcoder.jp/contests/dp/tasks/dp_c)）"
   ]
  },
  {
   "cell_type": "code",
   "execution_count": 32,
   "metadata": {},
   "outputs": [
    {
     "name": "stdout",
     "output_type": "stream",
     "text": [
      "210\n",
      "46\n"
     ]
    }
   ],
   "source": [
    "def the_algorithm(n, ary):\n",
    "    dp = [ary[0]]\n",
    "    for _ in range(n - 1):\n",
    "        dp.append([0, 0, 0])\n",
    "\n",
    "    for i in range(1, n):\n",
    "        dp[i][0] = max(dp[i-1][1] + ary[i][0], dp[i-1][2] + ary[i][0])\n",
    "        dp[i][1] = max(dp[i-1][0] + ary[i][1], dp[i-1][2] + ary[i][1])\n",
    "        dp[i][2] = max(dp[i-1][0] + ary[i][2], dp[i-1][1] + ary[i][2])\n",
    "\n",
    "    return max(dp[n-1][0], dp[n-1][1], dp[n-1][2])\n",
    "\n",
    "print(the_algorithm(3, [\n",
    "    [10, 40, 70],\n",
    "    [20, 50, 80],\n",
    "    [30, 60, 90],\n",
    "]))\n",
    "print(the_algorithm(7, [\n",
    "    [6, 7, 8],\n",
    "    [8, 8, 3],\n",
    "    [2, 5, 2],\n",
    "    [7, 8, 6],\n",
    "    [4, 6, 8],\n",
    "    [2, 3, 4],\n",
    "    [7, 5, 1],\n",
    "]))"
   ]
  }
 ],
 "metadata": {
  "kernelspec": {
   "display_name": "Python 3",
   "language": "python",
   "name": "python3"
  },
  "language_info": {
   "codemirror_mode": {
    "name": "ipython",
    "version": 3
   },
   "file_extension": ".py",
   "mimetype": "text/x-python",
   "name": "python",
   "nbconvert_exporter": "python",
   "pygments_lexer": "ipython3",
   "version": "3.8.1"
  }
 },
 "nbformat": 4,
 "nbformat_minor": 4
}
